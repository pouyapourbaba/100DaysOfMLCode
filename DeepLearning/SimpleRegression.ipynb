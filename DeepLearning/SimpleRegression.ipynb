{
 "cells": [
  {
   "cell_type": "markdown",
   "metadata": {},
   "source": [
    "### In this notebook, I create a simple linear regression using TensorFlow."
   ]
  },
  {
   "cell_type": "code",
   "execution_count": 1,
   "metadata": {},
   "outputs": [],
   "source": [
    "import tensorflow as tf\n",
    "import numpy as np\n",
    "import matplotlib.pyplot as plt"
   ]
  },
  {
   "cell_type": "code",
   "execution_count": 2,
   "metadata": {},
   "outputs": [],
   "source": [
    "# generate some example data\n",
    "x_train = np.linspace(0,100,100) + np.random.uniform(-15,.5,100)\n",
    "y_train = np.linspace(0,100,100) + np.random.uniform(-15,15,100)"
   ]
  },
  {
   "cell_type": "code",
   "execution_count": 3,
   "metadata": {},
   "outputs": [
    {
     "data": {
      "text/plain": [
       "<matplotlib.collections.PathCollection at 0x7f047676d128>"
      ]
     },
     "execution_count": 3,
     "metadata": {},
     "output_type": "execute_result"
    },
    {
     "data": {
      "image/png": "[encoded data removed]",
      "text/plain": [
       "<Figure size 432x288 with 1 Axes>"
      ]
     },
     "metadata": {
      "needs_background": "light"
     },
     "output_type": "display_data"
    }
   ],
   "source": [
    "# visualize the data\n",
    "plt.scatter(x_train, y_train)"
   ]
  },
  {
   "cell_type": "markdown",
   "metadata": {},
   "source": [
    "##### The goal is to find the slope and the y-intercept of the line that best fits these data and can perform well on new unseen data."
   ]
  },
  {
   "cell_type": "code",
   "execution_count": 4,
   "metadata": {},
   "outputs": [],
   "source": [
    "# initialize the slope and the bias as TensorFlow variables with random values\n",
    "m = tf.Variable(0.15)\n",
    "b = tf.Variable(0.62)"
   ]
  },
  {
   "cell_type": "markdown",
   "metadata": {},
   "source": [
    "#### The cost function is defined as the sum of all the squared errors"
   ]
  },
  {
   "cell_type": "code",
   "execution_count": 5,
   "metadata": {},
   "outputs": [],
   "source": [
    "# initialize the cost value with the value 0\n",
    "err = 0\n",
    "\n",
    "# iterate through all x_data and y_lable and find the value that our  \n",
    "# model predicts and compare it to the real value of y (y_label)\n",
    "for x,y in zip(x_train, y_train):\n",
    "    \n",
    "    # estimate the value of y\n",
    "    y_hat = m*x + b\n",
    "    \n",
    "    # calculate the squared error\n",
    "    err += (y-y_hat)**2"
   ]
  },
  {
   "cell_type": "markdown",
   "metadata": {},
   "source": [
    "#### This model uses the gradient descent algorithm to minimize the cost function. "
   ]
  },
  {
   "cell_type": "code",
   "execution_count": 6,
   "metadata": {},
   "outputs": [],
   "source": [
    "optimizer = tf.train.GradientDescentOptimizer(learning_rate=0.000001)\n",
    "\n",
    "# optimize the cost\n",
    "train = optimizer.minimize(err)"
   ]
  },
  {
   "cell_type": "code",
   "execution_count": 7,
   "metadata": {},
   "outputs": [],
   "source": [
    "# initialize the TensorFlow variables\n",
    "init = tf.global_variables_initializer()"
   ]
  },
  {
   "cell_type": "code",
   "execution_count": 8,
   "metadata": {},
   "outputs": [
    {
     "name": "stdout",
     "output_type": "stream",
     "text": [
      "1.1146672 0.65002924\n"
     ]
    }
   ],
   "source": [
    "# start the session and run the train\n",
    "with tf.Session() as sess:\n",
    "    # run the initializer\n",
    "    sess.run(init)\n",
    "    \n",
    "    # training steps\n",
    "    steps = 30\n",
    "    \n",
    "    # run the train for 'steps' time\n",
    "    for i in range(steps):\n",
    "        sess.run(train)\n",
    "        \n",
    "    # get the learned slope and bias\n",
    "    m_learned, b_learned = sess.run([m,b])\n",
    "    print(m_learned, b_learned)"
   ]
  },
  {
   "cell_type": "markdown",
   "metadata": {},
   "source": [
    "#### Let's generate some test data and predict their label using the line learned in the previous section, then plot the data and the line"
   ]
  },
  {
   "cell_type": "code",
   "execution_count": 9,
   "metadata": {},
   "outputs": [
    {
     "data": {
      "text/plain": [
       "[<matplotlib.lines.Line2D at 0x7f046f9747b8>]"
      ]
     },
     "execution_count": 9,
     "metadata": {},
     "output_type": "execute_result"
    },
    {
     "data": {
      "image/png": "[encoded data removed]",
      "text/plain": [
       "<Figure size 432x288 with 1 Axes>"
      ]
     },
     "metadata": {
      "needs_background": "light"
     },
     "output_type": "display_data"
    }
   ],
   "source": [
    "# generate test data\n",
    "x_test = np.linspace(-15,101,100)\n",
    "# use the slope and the bias to predict values for the test data\n",
    "y_predidted = m_learned*x_test + b_learned\n",
    "\n",
    "plt.scatter(x_train, y_train)\n",
    "plt.plot(x_test, y_predidted,'g')"
   ]
  }
 ],
 "metadata": {
  "kernelspec": {
   "display_name": "Python 3",
   "language": "python",
   "name": "python3"
  },
  "language_info": {
   "codemirror_mode": {
    "name": "ipython",
    "version": 3
   },
   "file_extension": ".py",
   "mimetype": "text/x-python",
   "name": "python",
   "nbconvert_exporter": "python",
   "pygments_lexer": "ipython3",
   "version": "3.6.7"
  }
 },
 "nbformat": 4,
 "nbformat_minor": 2
}
